{
  "nbformat": 4,
  "nbformat_minor": 0,
  "metadata": {
    "colab": {
      "name": "job_test.ipynb",
      "provenance": [],
      "mount_file_id": "1vdwXbXYvJatMVisjzsw4UHx3le3SPyep",
      "authorship_tag": "ABX9TyMcptIAGS5Se/v3WMMSwgcC",
      "include_colab_link": true
    },
    "kernelspec": {
      "name": "python3",
      "display_name": "Python 3"
    },
    "language_info": {
      "name": "python"
    }
  },
  "cells": [
    {
      "cell_type": "markdown",
      "metadata": {
        "id": "view-in-github",
        "colab_type": "text"
      },
      "source": [
        "<a href=\"https://colab.research.google.com/github/aditigedam/demo/blob/main/job_test.ipynb\" target=\"_parent\"><img src=\"https://colab.research.google.com/assets/colab-badge.svg\" alt=\"Open In Colab\"/></a>"
      ]
    },
    {
      "cell_type": "code",
      "execution_count": null,
      "metadata": {
        "id": "NpmcK-itkZev"
      },
      "outputs": [],
      "source": [
        "import bs4 as bs\n",
        "from bs4 import BeautifulSoup\n",
        "import requests"
      ]
    },
    {
      "cell_type": "code",
      "source": [
        "html_text = requests.get('https://www.timesjobs.com/candidate/job-search.html?searchType=personalizedSearch&from=submit&txtKeywords=Python&txtLocation=')"
      ],
      "metadata": {
        "id": "SKknFJZmkgk4"
      },
      "execution_count": null,
      "outputs": []
    },
    {
      "cell_type": "code",
      "source": [
        "print(html_text.text)"
      ],
      "metadata": {
        "id": "rtMGPlN5nDmH"
      },
      "execution_count": null,
      "outputs": []
    },
    {
      "cell_type": "code",
      "source": [
        "soup = BeautifulSoup(html_text.text,'lxml')"
      ],
      "metadata": {
        "id": "UG0bt4CanRw1",
        "outputId": "ac8ae0f1-6168-4a8e-ad5b-65136b7b2292",
        "colab": {
          "base_uri": "https://localhost:8080/",
          "height": 165
        }
      },
      "execution_count": null,
      "outputs": [
        {
          "output_type": "error",
          "ename": "NameError",
          "evalue": "ignored",
          "traceback": [
            "\u001b[0;31m---------------------------------------------------------------------------\u001b[0m",
            "\u001b[0;31mNameError\u001b[0m                                 Traceback (most recent call last)",
            "\u001b[0;32m<ipython-input-1-c7d7b0598fc2>\u001b[0m in \u001b[0;36m<module>\u001b[0;34m()\u001b[0m\n\u001b[0;32m----> 1\u001b[0;31m \u001b[0msoup\u001b[0m \u001b[0;34m=\u001b[0m \u001b[0mBeautifulSoup\u001b[0m\u001b[0;34m(\u001b[0m\u001b[0mhtml_text\u001b[0m\u001b[0;34m.\u001b[0m\u001b[0mcontent\u001b[0m\u001b[0;34m,\u001b[0m\u001b[0;34m'lxml'\u001b[0m\u001b[0;34m)\u001b[0m\u001b[0;34m\u001b[0m\u001b[0;34m\u001b[0m\u001b[0m\n\u001b[0m",
            "\u001b[0;31mNameError\u001b[0m: name 'BeautifulSoup' is not defined"
          ]
        }
      ]
    },
    {
      "cell_type": "code",
      "source": [
        "job = soup.find('li',class_ = 'clearfix job-bx wht-shd-bx')"
      ],
      "metadata": {
        "id": "5ZPaD_rhng-2"
      },
      "execution_count": null,
      "outputs": []
    },
    {
      "cell_type": "code",
      "source": [
        "job"
      ],
      "metadata": {
        "id": "cywH7F6Oo1Sl"
      },
      "execution_count": null,
      "outputs": []
    },
    {
      "cell_type": "code",
      "source": [
        "company_name = job.find('h3',class_='joblist-comp-name').text.replace(' ','')"
      ],
      "metadata": {
        "id": "Pnqj78bIo7fV"
      },
      "execution_count": null,
      "outputs": []
    },
    {
      "cell_type": "code",
      "source": [
        "print(company_name)"
      ],
      "metadata": {
        "colab": {
          "base_uri": "https://localhost:8080/"
        },
        "id": "bkbmTyZ1prg9",
        "outputId": "acbd6dc7-f505-4907-e281-9bb13f2961c8"
      },
      "execution_count": null,
      "outputs": [
        {
          "output_type": "stream",
          "name": "stdout",
          "text": [
            "\r\n",
            "SuryaInformaticsSolutionsPvt.Ltd.\r\n",
            "\r\n",
            "\n"
          ]
        }
      ]
    },
    {
      "cell_type": "code",
      "source": [
        "skills = job.find('span',class_ = 'srp-skills').text.replace(\" \",\"\")"
      ],
      "metadata": {
        "id": "GE-jPm8rptPl"
      },
      "execution_count": null,
      "outputs": []
    },
    {
      "cell_type": "code",
      "source": [
        "print(skills)"
      ],
      "metadata": {
        "colab": {
          "base_uri": "https://localhost:8080/"
        },
        "id": "aHYokmjRqZul",
        "outputId": "2ae3ae8b-d06a-4fee-cd5a-37e63cabfa52"
      },
      "execution_count": null,
      "outputs": [
        {
          "output_type": "stream",
          "name": "stdout",
          "text": [
            "\n",
            "python,webtechnologies,linux,mobile,mysql,angularjs,javascript\r\n",
            "\r\n",
            "\n"
          ]
        }
      ]
    },
    {
      "cell_type": "code",
      "source": [
        "print(f'''\n",
        "Company Name: {company_name}\n",
        "Skills: = {skills}\n",
        "''')"
      ],
      "metadata": {
        "colab": {
          "base_uri": "https://localhost:8080/"
        },
        "id": "UNoK2QeqrIr2",
        "outputId": "ab8fb6d6-93cc-4b9d-a870-38ffe497323e"
      },
      "execution_count": null,
      "outputs": [
        {
          "output_type": "stream",
          "name": "stdout",
          "text": [
            "\n",
            "Company Name: \r\n",
            "SuryaInformaticsSolutionsPvt.Ltd.\r\n",
            "\r\n",
            "\n",
            "Skills: = \n",
            "python,webtechnologies,linux,mobile,mysql,angularjs,javascript\r\n",
            "\r\n",
            "\n",
            "\n"
          ]
        }
      ]
    },
    {
      "cell_type": "code",
      "source": [
        "posted_date = job.find('span',class_='sim-posted').text"
      ],
      "metadata": {
        "id": "4gAnCLMgr3K2"
      },
      "execution_count": null,
      "outputs": []
    },
    {
      "cell_type": "code",
      "source": [
        "print(posted_date)"
      ],
      "metadata": {
        "colab": {
          "base_uri": "https://localhost:8080/"
        },
        "id": "8VbP1n4SsyK1",
        "outputId": "fe2b9e4d-da18-48dc-d546-f1dacb689df5"
      },
      "execution_count": null,
      "outputs": [
        {
          "output_type": "stream",
          "name": "stdout",
          "text": [
            "\n",
            "Posted today\n",
            "\n"
          ]
        }
      ]
    },
    {
      "cell_type": "code",
      "source": [
        "jobs = soup.find_all('li',class_ = 'clearfix job-bx wht-shd-bx')"
      ],
      "metadata": {
        "id": "CLJ65UH8s1Ol"
      },
      "execution_count": null,
      "outputs": []
    },
    {
      "cell_type": "code",
      "source": [
        "for job in jobs:\n",
        "  posted_date = job.find('span',class_='sim-posted').text\n",
        "  if 'few' in posted_date:\n",
        "    company_name = job.find('h3',class_='joblist-comp-name').text.replace(' ','')\n",
        "    skills = job.find('span',class_ = 'srp-skills').text.replace(\" \",\"\")\n",
        "    info = job.header.h2.a['href']\n",
        "    print(f'''Company Name: {company_name.strip()}''')\n",
        "    print(f'''skills: {skills}''')\n",
        "    print(f'''More Info: {info}\\n\\n''')\n"
      ],
      "metadata": {
        "colab": {
          "base_uri": "https://localhost:8080/"
        },
        "id": "YhBgrj9utgXF",
        "outputId": "20e70e8a-1ca0-4fe9-c1a4-5c745ba9fd60"
      },
      "execution_count": null,
      "outputs": [
        {
          "output_type": "stream",
          "name": "stdout",
          "text": [
            "Company Name: PureTechCodexPrivateLimited\n",
            "skills: \r\n",
            "\r\n",
            "rest,python,database,django,debugging,mongodb\r\n",
            "\r\n",
            "\n",
            "More Info: https://www.timesjobs.com/job-detail/python-pure-tech-codex-private-limited-pune-2-to-3-yrs-jobid-OHwfF0d6EhNzpSvf__PLUS__uAgZw==&source=srp\n",
            "\n",
            "\n",
            "Company Name: TECHNOPARKTRIVANDRUM\n",
            "skills: \n",
            "python,oops,storage,PythonDeveloper\r\n",
            "\r\n",
            "\n",
            "More Info: https://www.timesjobs.com/job-detail/python-developer-technopark-trivandrum-thiruvananthapuram-2-to-5-yrs-jobid-UQMLS0B7939zpSvf__PLUS__uAgZw==&source=srp\n",
            "\n",
            "\n"
          ]
        }
      ]
    },
    {
      "cell_type": "code",
      "source": [
        ""
      ],
      "metadata": {
        "id": "5ftWisHXttUV"
      },
      "execution_count": null,
      "outputs": []
    }
  ]
}